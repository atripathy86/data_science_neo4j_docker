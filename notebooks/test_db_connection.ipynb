{
 "cells": [
  {
   "cell_type": "markdown",
   "id": "modular-leone",
   "metadata": {},
   "source": [
    "## This notebook checks that Python is able to connect to the graph.  Assuming this block runs (on an empty database) and returns 0 nodes in the graph, you are good to go!"
   ]
  },
  {
   "cell_type": "code",
   "execution_count": 1,
   "id": "preliminary-virginia",
   "metadata": {
    "tags": []
   },
   "outputs": [],
   "source": [
    "from py2neo import Node, Graph\n",
    "import os\n",
    "\n",
    "URI = os.environ[\"NEO4J_URI\"]\n",
    "USER=os.environ[\"NEO4J_USER_NAME\"]\n",
    "PASSWORD=os.environ[\"NEO4J_PASSWD\"]\n",
    "AUTH = (os.environ[\"NEO4J_USER_NAME\"], os.environ[\"NEO4J_PASSWD\"])"
   ]
  },
  {
   "cell_type": "code",
   "execution_count": 2,
   "id": "prescription-basket",
   "metadata": {
    "tags": []
   },
   "outputs": [
    {
     "name": "stdout",
     "output_type": "stream",
     "text": [
      "Number of nodes in graph:  0\n"
     ]
    }
   ],
   "source": [
    "graph = Graph(URI, name=USER, password=PASSWORD)\n",
    "print('Number of nodes in graph: ', graph.nodes.match('Node').count())"
   ]
  },
  {
   "cell_type": "code",
   "execution_count": null,
   "id": "05b9a43c-86aa-4de4-bacc-97e0c0ca7fb2",
   "metadata": {},
   "outputs": [],
   "source": []
  }
 ],
 "metadata": {
  "kernelspec": {
   "display_name": "Python 3 (ipykernel)",
   "language": "python",
   "name": "python3"
  },
  "language_info": {
   "codemirror_mode": {
    "name": "ipython",
    "version": 3
   },
   "file_extension": ".py",
   "mimetype": "text/x-python",
   "name": "python",
   "nbconvert_exporter": "python",
   "pygments_lexer": "ipython3",
   "version": "3.10.9"
  }
 },
 "nbformat": 4,
 "nbformat_minor": 5
}
