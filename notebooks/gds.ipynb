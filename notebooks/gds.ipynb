{
 "cells": [
  {
   "cell_type": "markdown",
   "id": "a34b8fb1-3756-43f2-8b41-4c986c133e74",
   "metadata": {},
   "source": [
    "## Graph Data Science Starter"
   ]
  },
  {
   "cell_type": "markdown",
   "id": "aae7f2f7-f269-421e-b7cd-9c83317c5838",
   "metadata": {},
   "source": [
    "https://neo4j.com/docs/graph-data-science-client/\n",
    "\n",
    "https://github.com/neo4j/graph-data-science\n",
    "\n",
    "https://neo4j.com/docs/graph-data-science-client/current/getting-started/"
   ]
  },
  {
   "cell_type": "code",
   "execution_count": 1,
   "id": "f733425d-7c03-48da-9cb2-8f64f7541dff",
   "metadata": {
    "tags": []
   },
   "outputs": [
    {
     "name": "stdout",
     "output_type": "stream",
     "text": [
      "2.2.4\n",
      "                                         name  \\\n",
      "0           gds.allShortestPaths.delta.mutate   \n",
      "1  gds.allShortestPaths.delta.mutate.estimate   \n",
      "2            gds.allShortestPaths.delta.stats   \n",
      "3   gds.allShortestPaths.delta.stats.estimate   \n",
      "4           gds.allShortestPaths.delta.stream   \n",
      "\n",
      "                                         description  \\\n",
      "0  The Delta Stepping shortest path algorithm com...   \n",
      "1  Returns an estimation of the memory consumptio...   \n",
      "2  The Delta Stepping shortest path algorithm com...   \n",
      "3  Returns an estimation of the memory consumptio...   \n",
      "4  The Delta Stepping shortest path algorithm com...   \n",
      "\n",
      "                                           signature       type  \n",
      "0  gds.allShortestPaths.delta.mutate(graphName ::...  procedure  \n",
      "1  gds.allShortestPaths.delta.mutate.estimate(gra...  procedure  \n",
      "2  gds.allShortestPaths.delta.stats(graphName :: ...  procedure  \n",
      "3  gds.allShortestPaths.delta.stats.estimate(grap...  procedure  \n",
      "4  gds.allShortestPaths.delta.stream(graphName ::...  procedure  \n"
     ]
    }
   ],
   "source": [
    "# Client import\n",
    "from graphdatascience import GraphDataScience\n",
    "import os\n",
    "\n",
    "URI = os.environ[\"NEO4J_URI\"]\n",
    "USER=os.environ[\"NEO4J_USER_NAME\"]\n",
    "PASSWORD=os.environ[\"NEO4J_PASSWD\"]\n",
    "AUTH = (os.environ[\"NEO4J_USER_NAME\"], os.environ[\"NEO4J_PASSWD\"])\n",
    "\n",
    "# Client instantiation\n",
    "gds = GraphDataScience(\n",
    "    URI,\n",
    "    auth=(USER, PASSWORD)\n",
    "    )\n",
    "\n",
    "\n",
    "#Run Cypher queries and call Cypher procedures\n",
    "\n",
    "# Call a GDS method directly\n",
    "print(gds.version())\n",
    "assert gds.version()\n",
    "\n",
    "\n",
    "# Assign the result of the client call to a variable\n",
    "results = gds.list()\n",
    "\n",
    "# Print the result (a Pandas DataFrame)\n",
    "print(results[:5])\n"
   ]
  },
  {
   "cell_type": "code",
   "execution_count": null,
   "id": "51c815f1-44e0-4689-ac60-50c63f8e4bc8",
   "metadata": {},
   "outputs": [],
   "source": []
  }
 ],
 "metadata": {
  "kernelspec": {
   "display_name": "Python 3 (ipykernel)",
   "language": "python",
   "name": "python3"
  },
  "language_info": {
   "codemirror_mode": {
    "name": "ipython",
    "version": 3
   },
   "file_extension": ".py",
   "mimetype": "text/x-python",
   "name": "python",
   "nbconvert_exporter": "python",
   "pygments_lexer": "ipython3",
   "version": "3.10.9"
  }
 },
 "nbformat": 4,
 "nbformat_minor": 5
}
